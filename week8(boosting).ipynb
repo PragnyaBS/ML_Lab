{
  "nbformat": 4,
  "nbformat_minor": 0,
  "metadata": {
    "colab": {
      "provenance": [],
      "authorship_tag": "ABX9TyMUBcZTzxUjo7mGPEz5lBFU",
      "include_colab_link": true
    },
    "kernelspec": {
      "name": "python3",
      "display_name": "Python 3"
    },
    "language_info": {
      "name": "python"
    }
  },
  "cells": [
    {
      "cell_type": "markdown",
      "metadata": {
        "id": "view-in-github",
        "colab_type": "text"
      },
      "source": [
        "<a href=\"https://colab.research.google.com/github/PragnyaBS/ML_Lab/blob/main/week8(boosting).ipynb\" target=\"_parent\"><img src=\"https://colab.research.google.com/assets/colab-badge.svg\" alt=\"Open In Colab\"/></a>"
      ]
    },
    {
      "cell_type": "code",
      "execution_count": 6,
      "metadata": {
        "id": "ePu2wzvTGHtr"
      },
      "outputs": [],
      "source": [
        "from sklearn.datasets import load_breast_cancer\n",
        "from sklearn.model_selection import train_test_split\n",
        "from sklearn.tree import DecisionTreeClassifier\n",
        "from sklearn.metrics import accuracy_score\n",
        "from sklearn.ensemble import AdaBoostClassifier\n",
        "import numpy as np\n",
        "import matplotlib.pyplot as plt"
      ]
    },
    {
      "cell_type": "code",
      "source": [
        "x, y = load_breast_cancer(return_X_y=True)"
      ],
      "metadata": {
        "id": "DOmG0AHCJiUO"
      },
      "execution_count": 7,
      "outputs": []
    },
    {
      "cell_type": "code",
      "source": [
        "x_train, x_test, y_train, y_test = train_test_split(x, y, test_size=0.3,   random_state=23)"
      ],
      "metadata": {
        "id": "d8zecainJKTN"
      },
      "execution_count": 8,
      "outputs": []
    },
    {
      "cell_type": "code",
      "source": [
        "dtree = DecisionTreeClassifier(max_depth=1, random_state=23)\n",
        "dtree.fit(x_train,y_train)\n",
        "dt_pred = dtree.predict(x_test)\n",
        "\n",
        "dt_acc = round(accuracy_score(y_test,dt_pred),3)\n",
        "print(f\"Decision Tree Classifier Accuracy Score: \", dt_acc)"
      ],
      "metadata": {
        "colab": {
          "base_uri": "https://localhost:8080/"
        },
        "id": "c4iS2AhcJM-7",
        "outputId": "0cca222d-12a6-40bc-d5f2-e8d47f657de5"
      },
      "execution_count": 9,
      "outputs": [
        {
          "output_type": "stream",
          "name": "stdout",
          "text": [
            "Decision Tree Classifier Accuracy Score:  0.924\n"
          ]
        }
      ]
    },
    {
      "cell_type": "code",
      "source": [
        "ada = AdaBoostClassifier(n_estimators=50,learning_rate=0.6)\n",
        "ada.fit(x_train,y_train)\n",
        "ada_pred = ada.predict(x_test)\n",
        "\n",
        "ada_acc = round(accuracy_score(y_test,ada_pred),3)\n",
        "print(f\"Decision Tree AdaBoost Model Accuracy Score: \", ada_acc)"
      ],
      "metadata": {
        "colab": {
          "base_uri": "https://localhost:8080/"
        },
        "id": "8uXIMzZSJP-z",
        "outputId": "46362572-a75f-4ad9-c5f5-79ab1c00e68d"
      },
      "execution_count": 10,
      "outputs": [
        {
          "output_type": "stream",
          "name": "stdout",
          "text": [
            "Decision Tree AdaBoost Model Accuracy Score:  0.982\n"
          ]
        }
      ]
    },
    {
      "cell_type": "code",
      "source": [
        "plt.figure(figsize=(10,2))\n",
        "plt.barh(np.arange(2),[dt_acc,ada_acc],\n",
        "         tick_label=['Decision Tree','AdaBoost'])"
      ],
      "metadata": {
        "colab": {
          "base_uri": "https://localhost:8080/",
          "height": 231
        },
        "id": "Ii5m_hckJUCL",
        "outputId": "a5c8ad44-34ee-417f-c8f7-2ae5026315b8"
      },
      "execution_count": 11,
      "outputs": [
        {
          "output_type": "execute_result",
          "data": {
            "text/plain": [
              "<BarContainer object of 2 artists>"
            ]
          },
          "metadata": {},
          "execution_count": 11
        },
        {
          "output_type": "display_data",
          "data": {
            "text/plain": [
              "<Figure size 1000x200 with 1 Axes>"
            ],
            "image/png": "[encoded data removed]"
          },
          "metadata": {}
        }
      ]
    }
  ]
}